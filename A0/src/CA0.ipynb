{
 "cells": [
  {
   "cell_type": "markdown",
   "id": "2ecfbb4b0c704e67",
   "metadata": {
    "collapsed": false
   },
   "source": [
    "# Web Scraping and Introductory Data Analysis\n",
    "\n",
    "Welcome to Homework 0, where we will delve into web scraping and perform an introductory data analysis. This homework will be a hands-on exercise that will help you become familiar with the process of extracting data from websites and conducting basic statistical analysis.\n",
    "\n",
    "## Objectives\n",
    "\n",
    "By the end of this homework, you will be able to:\n",
    "\n",
    "1. Set up a Python environment with the necessary libraries for web scraping and data analysis.\n",
    "2. Write a web scraping script using Beautiful Soup and Selenium to collect data from a website.\n",
    "3. Sample from the collected dataset and compare the statistics of the sample and the population.\n",
    "\n",
    "## Tasks\n",
    "\n",
    "1. **Environment Setup**: Install the required libraries such as Beautiful Soup, Selenium, pandas, numpy, matplotlib, and seaborn.\n",
    "\n",
    "2. **Web Scraping**: Write a script to scrape transaction data from [Etherscan.io](https://etherscan.io/txs). Use Selenium to interact with the website and Beautiful Soup to parse the HTML content.\n",
    "\n",
    "3. **Data Sampling**: Once the data is collected, create a sample from the dataset. Compare the sample statistics (mean and standard deviation) with the population statistics.\n",
    "\n",
    "## Deliverables\n",
    "\n",
    "1. A Jupyter notebook with all the code and explanations.\n",
    "2. A detailed report on the findings, including the comparison of sample and population statistics.\n",
    "   Note: You can include the report in your notebook.\n",
    "\n",
    "## Getting Started\n",
    "\n",
    "Begin by setting up your Python environment and installing the necessary libraries. Then, proceed with the web scraping task, ensuring that you handle any potential issues such as rate limiting. Once you have the data, move on to the data sampling and statistical analysis tasks.\n",
    "\n",
    "Remember to document your process and findings in the Jupyter notebook, and to include visualizations where appropriate to illustrate your results. <br>\n",
    "Good luck, and happy scraping!\n"
   ]
  },
  {
   "cell_type": "code",
   "execution_count": 1,
   "id": "373b1914",
   "metadata": {},
   "outputs": [],
   "source": [
    "import csv\n",
    "\n",
    "from bs4 import BeautifulSoup\n",
    "import pandas as pd\n",
    "import numpy as np\n",
    "import matplotlib.pyplot as plt\n",
    "from selenium import webdriver\n",
    "from selenium.webdriver.common.by import By"
   ]
  },
  {
   "cell_type": "code",
   "execution_count": 2,
   "id": "e257f450",
   "metadata": {},
   "outputs": [],
   "source": [
    "SCRAPE_URL = \"https://etherscan.io/txs\"\n",
    "SCRAPE_BLOCKS = 10\n",
    "TRANSACTIONS_CSV = \"transactions.csv\""
   ]
  },
  {
   "cell_type": "markdown",
   "id": "1ca352a49724d191",
   "metadata": {
    "collapsed": false
   },
   "source": [
    "## Data Collection (Etherscan)\n",
    "\n",
    "In this section, we will use web scraping to gather transaction data from the Ethereum blockchain using the Etherscan block explorer. Our objective is to collect transactions from the **last 10 blocks** on Ethereum.\n",
    "\n",
    "To accomplish this task, we will employ web scraping techniques to extract the transaction data from the Etherscan website. The URL we will be targeting for our data collection is:\n",
    "\n",
    "[https://etherscan.io/txs](https://etherscan.io/txs)\n",
    "\n",
    "### Steps\n",
    "\n",
    "1. **Navigate to the URL**: Use Selenium to open the Etherscan transactions page in a browser.\n",
    "\n",
    "2. **Locate the Transaction Data**: Identify the HTML elements that contain the transaction data for the specified block range.\n",
    "\n",
    "3. **Extract the Data**: Write a script to extract the transaction details e.g. Hash, Method, Block, etc.\n",
    "\n",
    "4. **Handle Pagination**: If the transactions span multiple pages, implement pagination handling to navigate through the pages and collect all relevant transaction data.\n",
    "\n",
    "5. **Store the Data**: Save the extracted transaction data into a structured format, such as a CSV file or a pandas DataFrame, for further analysis.\n",
    "\n",
    "### Considerations\n",
    "\n",
    "-   **Rate Limiting**: Be mindful of the website's rate limits to avoid being blocked. Implement delays between requests if necessary.\n",
    "-   **Dynamic Content**: The Etherscan website may load content dynamically. Ensure that Selenium waits for the necessary elements to load before attempting to scrape the data.\n",
    "-   **Data Cleaning**: After extraction, clean the data to remove any inconsistencies or errors that may have occurred during the scraping process.\n",
    "\n",
    "### Resources\n",
    "\n",
    "-   [Beautiful Soup Documentation](https://www.crummy.com/software/BeautifulSoup/bs4/doc/)\n",
    "-   [Selenium Documentation](https://selenium-python.readthedocs.io/)\n",
    "-   [Pandas Documentation](https://pandas.pydata.org/docs/)\n",
    "-   [Ethereum](https://ethereum.org/en/)\n"
   ]
  },
  {
   "cell_type": "code",
   "execution_count": 12,
   "id": "54fa10db-ec9e-4921-870a-50066926ed2d",
   "metadata": {},
   "outputs": [],
   "source": [
    "def parse_transactions(page_source: str) -> list[dict[str, str]]:\n",
    "    soup = BeautifulSoup(page_source, \"html.parser\")\n",
    "    table = soup.find(\"table\", {\"class\": \"table table-hover table-align-middle mb-0\"})\n",
    "    body = table.find(\"tbody\")\n",
    "    rows = body.find_all(\"tr\")\n",
    "    transactions = []\n",
    "    for row in rows:\n",
    "        cells = row.find_all(\"td\")\n",
    "        if len(cells) > 0:\n",
    "            transaction = {\n",
    "                \"Txn Hash\": cells[1].text.strip(),\n",
    "                \"Method\": cells[2].text.strip(),\n",
    "                \"Block\": cells[3].text.strip(),\n",
    "                \"Timestamp\": cells[4].text.strip(),\n",
    "                \"Age\": cells[5].text.strip(),\n",
    "                \"From\": cells[7].text.strip(),\n",
    "                \"To\": cells[9].text.strip(),\n",
    "                \"Value\": cells[10].text.strip(),\n",
    "                \"Txn Fee\": cells[11].text.strip(),\n",
    "            }\n",
    "            transactions.append(transaction)\n",
    "    return transactions"
   ]
  },
  {
   "cell_type": "code",
   "execution_count": 13,
   "id": "7179b8b8",
   "metadata": {},
   "outputs": [],
   "source": [
    "driver = webdriver.Firefox()\n",
    "driver.get(SCRAPE_URL)\n",
    "\n",
    "last_block = None\n",
    "first_block = None\n",
    "transactions = []\n",
    "\n",
    "while True:\n",
    "    transactions += parse_transactions(driver.page_source)\n",
    "\n",
    "    if first_block is None:\n",
    "        last_block = int(transactions[0][\"Block\"])\n",
    "        first_block = last_block - SCRAPE_BLOCKS + 1\n",
    "\n",
    "    if int(transactions[-1][\"Block\"]) < first_block:\n",
    "        break\n",
    "\n",
    "    driver.find_element(By.LINK_TEXT, \"Next\").click()\n",
    "\n",
    "driver.close()"
   ]
  },
  {
   "cell_type": "code",
   "execution_count": 17,
   "id": "a4e21e5c",
   "metadata": {},
   "outputs": [
    {
     "name": "stdout",
     "output_type": "stream",
     "text": [
      "Scraped 4700 transactions from blocks 19334507 to 19334516\n",
      "{'Txn Hash': '0x87ad207685a04a5630df4dc60f691b3e6679896f1def7d3c5a8af8600be9e1c0', 'Method': 'Sell To Uniswap', 'Block': '19334516', 'Timestamp': '2024-02-29 16:59:47', 'Age': '11 secs ago', 'From': '0xD11c274E...100D7A541', 'To': '0x: Exchange Proxy', 'Value': '0.581130968 ETH', 'Txn Fee': '0.00967144'}\n",
      "{'Txn Hash': '0xd57fcd1d504476c3d9daad2f5cacb5fb142aba92c9b71a1c54cdcc6f2f14e6f0', 'Method': 'Transfer', 'Block': '19334506', 'Timestamp': '2024-02-29 16:57:47', 'Age': '5 mins ago', 'From': '0x3E56a0C8...15B4f89D0', 'To': 'Tether: USDT Stablecoin', 'Value': '0 ETH', 'Txn Fee': '0.00316241'}\n"
     ]
    }
   ],
   "source": [
    "print(f\"Scraped {len(transactions)} transactions from blocks {first_block} to {last_block}\")\n",
    "print(transactions[0])\n",
    "print(transactions[-1])"
   ]
  },
  {
   "cell_type": "code",
   "execution_count": 26,
   "id": "ee034ea0",
   "metadata": {},
   "outputs": [],
   "source": [
    "with open(TRANSACTIONS_CSV, \"w\", encoding=\"utf-8\") as file:\n",
    "    writer = csv.DictWriter(file, fieldnames=transactions[0].keys(), lineterminator='\\n')\n",
    "    writer.writeheader()\n",
    "    writer.writerows(transactions)"
   ]
  },
  {
   "cell_type": "markdown",
   "id": "6a013b104d142cfc",
   "metadata": {
    "collapsed": false
   },
   "source": [
    "## Data Analysis\n",
    "\n",
    "Now that we have collected the transaction data from Etherscan, the next step is to perform conduct an initial analysis. This task will involve the following steps:\n",
    "\n",
    "1. **Load the Data**: Import the collected transaction data into a pandas DataFrame.\n",
    "\n",
    "2. **Data Cleaning**: Clean the data by converting data types, removing any irrelevant information, and handling **duplicate** values.\n",
    "\n",
    "3. **Statistical Analysis**: Calculate the mean and standard deviation of the population. Evaluate these statistics to understand the distribution of transaction values. The analysis and plotting will be on **Txn Fee** and **Value**.\n",
    "\n",
    "4. **Visualization**: This phase involves the creation of visual representations to aid in the analysis of transaction values. The visualizations include:\n",
    "    - A histogram for each data column, which provides a visual representation of the data distribution. The selection of bin size is crucial and should be based on the data's characteristics to ensure accurate representation. Provide an explanation on the bin size selection!\n",
    "    - A normal distribution plot fitted alongside the histogram to compare the empirical distribution of the data with the theoretical normal distribution.\n",
    "    - A box plot and a violin plot to identify outliers and provide a comprehensive view of the data's distribution.\n",
    "\n",
    "### Deliverables\n",
    "\n",
    "The project aims to deliver the following deliverables:\n",
    "\n",
    "-   A refined pandas DataFrame containing the transaction data, which has undergone thorough cleaning and is ready for analysis.\n",
    "-   A simple statistical analysis evaluating the population statistics, offering insights into the distribution of transaction values and fees.\n",
    "-   A set of visualizations showcasing the distribution of transaction values for the population. These visualizations include histograms, normal distribution plots, box plots, and violin plots, each serving a specific purpose in the analysis.\n",
    "\n",
    "### Getting Started\n",
    "\n",
    "The project starts with the importing of transaction data into a pandas DataFrame, setting the stage for data manipulation and analysis. Subsequent steps involve the cleaning of the data to ensure its quality and reliability. Followed by the calculation of population statistics. Finally, a series of visualizations are created to visually analyze the distribution of transaction values and fees.\n"
   ]
  },
  {
   "cell_type": "code",
   "execution_count": 3,
   "id": "f481b11a08d876b6",
   "metadata": {
    "ExecuteTime": {
     "end_time": "2024-02-25T14:02:12.152030482Z",
     "start_time": "2024-02-25T14:02:12.101846096Z"
    },
    "collapsed": false
   },
   "outputs": [
    {
     "data": {
      "text/html": [
       "<div>\n",
       "<style scoped>\n",
       "    .dataframe tbody tr th:only-of-type {\n",
       "        vertical-align: middle;\n",
       "    }\n",
       "\n",
       "    .dataframe tbody tr th {\n",
       "        vertical-align: top;\n",
       "    }\n",
       "\n",
       "    .dataframe thead th {\n",
       "        text-align: right;\n",
       "    }\n",
       "</style>\n",
       "<table border=\"1\" class=\"dataframe\">\n",
       "  <thead>\n",
       "    <tr style=\"text-align: right;\">\n",
       "      <th></th>\n",
       "      <th>Txn Hash</th>\n",
       "      <th>Method</th>\n",
       "      <th>Block</th>\n",
       "      <th>Timestamp</th>\n",
       "      <th>Age</th>\n",
       "      <th>From</th>\n",
       "      <th>To</th>\n",
       "      <th>Value</th>\n",
       "      <th>Txn Fee</th>\n",
       "    </tr>\n",
       "  </thead>\n",
       "  <tbody>\n",
       "    <tr>\n",
       "      <th>0</th>\n",
       "      <td>0x87ad207685a04a5630df4dc60f691b3e6679896f1def...</td>\n",
       "      <td>Sell To Uniswap</td>\n",
       "      <td>19334516</td>\n",
       "      <td>2024-02-29 16:59:47</td>\n",
       "      <td>11 secs ago</td>\n",
       "      <td>0xD11c274E...100D7A541</td>\n",
       "      <td>0x: Exchange Proxy</td>\n",
       "      <td>0.581130968 ETH</td>\n",
       "      <td>0.009671</td>\n",
       "    </tr>\n",
       "    <tr>\n",
       "      <th>1</th>\n",
       "      <td>0x3fb7613717d61a3f6bf330c542e061463aa1868aa24a...</td>\n",
       "      <td>Transfer</td>\n",
       "      <td>19334516</td>\n",
       "      <td>2024-02-29 16:59:47</td>\n",
       "      <td>11 secs ago</td>\n",
       "      <td>0x9c95822B...53D8C79a3</td>\n",
       "      <td>VAIOT: VAI Token</td>\n",
       "      <td>0 ETH</td>\n",
       "      <td>0.002132</td>\n",
       "    </tr>\n",
       "    <tr>\n",
       "      <th>2</th>\n",
       "      <td>0x341367774a838fee5d7c7465b9eb151ddbe012dce6de...</td>\n",
       "      <td>Sell To Uniswap</td>\n",
       "      <td>19334516</td>\n",
       "      <td>2024-02-29 16:59:47</td>\n",
       "      <td>11 secs ago</td>\n",
       "      <td>0x3b454995...7500236a3</td>\n",
       "      <td>0x: Exchange Proxy</td>\n",
       "      <td>0.016822346 ETH</td>\n",
       "      <td>0.008656</td>\n",
       "    </tr>\n",
       "    <tr>\n",
       "      <th>3</th>\n",
       "      <td>0x9317998e91e7ad56cf0bab4927a425a56ec493243c03...</td>\n",
       "      <td>Transfer</td>\n",
       "      <td>19334516</td>\n",
       "      <td>2024-02-29 16:59:47</td>\n",
       "      <td>11 secs ago</td>\n",
       "      <td>0x37A653a8...8B8b0CFCC</td>\n",
       "      <td>0x57A54b0A...94f9DD578</td>\n",
       "      <td>0.003698047 ETH</td>\n",
       "      <td>0.001506</td>\n",
       "    </tr>\n",
       "    <tr>\n",
       "      <th>4</th>\n",
       "      <td>0x87c23770735932244ced56868f2387123505922c42b4...</td>\n",
       "      <td>Execute</td>\n",
       "      <td>19334516</td>\n",
       "      <td>2024-02-29 16:59:47</td>\n",
       "      <td>11 secs ago</td>\n",
       "      <td>0x73491B6d...1CdD889C9</td>\n",
       "      <td>Uniswap: Universal Router</td>\n",
       "      <td>0.08 ETH</td>\n",
       "      <td>0.011457</td>\n",
       "    </tr>\n",
       "  </tbody>\n",
       "</table>\n",
       "</div>"
      ],
      "text/plain": [
       "                                            Txn Hash           Method  \\\n",
       "0  0x87ad207685a04a5630df4dc60f691b3e6679896f1def...  Sell To Uniswap   \n",
       "1  0x3fb7613717d61a3f6bf330c542e061463aa1868aa24a...         Transfer   \n",
       "2  0x341367774a838fee5d7c7465b9eb151ddbe012dce6de...  Sell To Uniswap   \n",
       "3  0x9317998e91e7ad56cf0bab4927a425a56ec493243c03...         Transfer   \n",
       "4  0x87c23770735932244ced56868f2387123505922c42b4...          Execute   \n",
       "\n",
       "      Block            Timestamp          Age                    From  \\\n",
       "0  19334516  2024-02-29 16:59:47  11 secs ago  0xD11c274E...100D7A541   \n",
       "1  19334516  2024-02-29 16:59:47  11 secs ago  0x9c95822B...53D8C79a3   \n",
       "2  19334516  2024-02-29 16:59:47  11 secs ago  0x3b454995...7500236a3   \n",
       "3  19334516  2024-02-29 16:59:47  11 secs ago  0x37A653a8...8B8b0CFCC   \n",
       "4  19334516  2024-02-29 16:59:47  11 secs ago  0x73491B6d...1CdD889C9   \n",
       "\n",
       "                          To            Value   Txn Fee  \n",
       "0         0x: Exchange Proxy  0.581130968 ETH  0.009671  \n",
       "1           VAIOT: VAI Token            0 ETH  0.002132  \n",
       "2         0x: Exchange Proxy  0.016822346 ETH  0.008656  \n",
       "3     0x57A54b0A...94f9DD578  0.003698047 ETH  0.001506  \n",
       "4  Uniswap: Universal Router         0.08 ETH  0.011457  "
      ]
     },
     "execution_count": 3,
     "metadata": {},
     "output_type": "execute_result"
    }
   ],
   "source": [
    "df = pd.read_csv(TRANSACTIONS_CSV)\n",
    "df.head()"
   ]
  },
  {
   "cell_type": "code",
   "execution_count": 4,
   "id": "d7c7a3bc",
   "metadata": {},
   "outputs": [],
   "source": [
    "# Calculate the first and last block numbers as we may use the csv instead of scraping\n",
    "last_block = int(df[\"Block\"].iloc[0])\n",
    "first_block = last_block - SCRAPE_BLOCKS + 1"
   ]
  },
  {
   "cell_type": "code",
   "execution_count": 5,
   "id": "0a63f235",
   "metadata": {},
   "outputs": [
    {
     "name": "stdout",
     "output_type": "stream",
     "text": [
      "<class 'pandas.core.frame.DataFrame'>\n",
      "RangeIndex: 1883 entries, 0 to 1882\n",
      "Data columns (total 9 columns):\n",
      " #   Column     Non-Null Count  Dtype  \n",
      "---  ------     --------------  -----  \n",
      " 0   Txn Hash   1883 non-null   object \n",
      " 1   Method     1883 non-null   object \n",
      " 2   Block      1883 non-null   int64  \n",
      " 3   Timestamp  1883 non-null   object \n",
      " 4   Age        1883 non-null   object \n",
      " 5   From       1883 non-null   object \n",
      " 6   To         1883 non-null   object \n",
      " 7   Value      1883 non-null   object \n",
      " 8   Txn Fee    1883 non-null   float64\n",
      "dtypes: float64(1), int64(1), object(7)\n",
      "memory usage: 132.5+ KB\n"
     ]
    }
   ],
   "source": [
    "df = df[df[\"Block\"].between(first_block, last_block)]\n",
    "\n",
    "# Remove duplicate transactions as we may have scraped the same transaction multiple times due to pagination\n",
    "df = df.drop_duplicates(subset=[\"Txn Hash\"], keep=\"first\", ignore_index=True)\n",
    "\n",
    "df.info()"
   ]
  },
  {
   "cell_type": "code",
   "execution_count": 6,
   "id": "b1c9ba0d",
   "metadata": {},
   "outputs": [
    {
     "data": {
      "text/html": [
       "<div>\n",
       "<style scoped>\n",
       "    .dataframe tbody tr th:only-of-type {\n",
       "        vertical-align: middle;\n",
       "    }\n",
       "\n",
       "    .dataframe tbody tr th {\n",
       "        vertical-align: top;\n",
       "    }\n",
       "\n",
       "    .dataframe thead th {\n",
       "        text-align: right;\n",
       "    }\n",
       "</style>\n",
       "<table border=\"1\" class=\"dataframe\">\n",
       "  <thead>\n",
       "    <tr style=\"text-align: right;\">\n",
       "      <th></th>\n",
       "      <th>Txn Hash</th>\n",
       "      <th>Method</th>\n",
       "      <th>Block</th>\n",
       "      <th>Timestamp</th>\n",
       "      <th>Age</th>\n",
       "      <th>From</th>\n",
       "      <th>To</th>\n",
       "      <th>Value</th>\n",
       "      <th>Txn Fee</th>\n",
       "    </tr>\n",
       "  </thead>\n",
       "  <tbody>\n",
       "    <tr>\n",
       "      <th>834</th>\n",
       "      <td>0x7bd7632e58f8c5abbad7cc8f5138b5e17da30370fc9f...</td>\n",
       "      <td>0x020965d0</td>\n",
       "      <td>19334512</td>\n",
       "      <td>2024-02-29 16:58:59</td>\n",
       "      <td>2 mins ago</td>\n",
       "      <td>0xD267fdA7...284b72dA9</td>\n",
       "      <td>Seawise: Resolver</td>\n",
       "      <td>77 wei</td>\n",
       "      <td>0.027082</td>\n",
       "    </tr>\n",
       "  </tbody>\n",
       "</table>\n",
       "</div>"
      ],
      "text/plain": [
       "                                              Txn Hash      Method     Block  \\\n",
       "834  0x7bd7632e58f8c5abbad7cc8f5138b5e17da30370fc9f...  0x020965d0  19334512   \n",
       "\n",
       "               Timestamp         Age                    From  \\\n",
       "834  2024-02-29 16:58:59  2 mins ago  0xD267fdA7...284b72dA9   \n",
       "\n",
       "                    To   Value   Txn Fee  \n",
       "834  Seawise: Resolver  77 wei  0.027082  "
      ]
     },
     "execution_count": 6,
     "metadata": {},
     "output_type": "execute_result"
    }
   ],
   "source": [
    "df[~df[\"Value\"].str.contains(\"ETH\")].head()"
   ]
  },
  {
   "cell_type": "code",
   "execution_count": 7,
   "id": "f0c56cf1",
   "metadata": {},
   "outputs": [],
   "source": [
    "# Some values are in wei, kwei, mwei, gwei, etc. We need to convert them to ETH\n",
    "def convert_values_to_eth(df: pd.DataFrame, unit: str, decimals: int):\n",
    "    df.loc[df[\"Value\"].str.contains(\"wei\"), \"Value\"] = df[df[\"Value\"].str.contains(unit)].apply(lambda x: str(int(x[\"Value\"].replace(f\" {unit}\", \"\")) / 10**decimals) + \" ETH\", axis=1)\n",
    "\n",
    "convert_values_to_eth(df, \"wei\", 18)\n",
    "convert_values_to_eth(df, \"kwei\", 15)\n",
    "convert_values_to_eth(df, \"mwei\", 12)\n",
    "convert_values_to_eth(df, \"gwei\", 9)"
   ]
  },
  {
   "cell_type": "code",
   "execution_count": 8,
   "id": "35728e2b",
   "metadata": {},
   "outputs": [
    {
     "data": {
      "text/html": [
       "<div>\n",
       "<style scoped>\n",
       "    .dataframe tbody tr th:only-of-type {\n",
       "        vertical-align: middle;\n",
       "    }\n",
       "\n",
       "    .dataframe tbody tr th {\n",
       "        vertical-align: top;\n",
       "    }\n",
       "\n",
       "    .dataframe thead th {\n",
       "        text-align: right;\n",
       "    }\n",
       "</style>\n",
       "<table border=\"1\" class=\"dataframe\">\n",
       "  <thead>\n",
       "    <tr style=\"text-align: right;\">\n",
       "      <th></th>\n",
       "      <th>Txn Hash</th>\n",
       "      <th>Method</th>\n",
       "      <th>Block</th>\n",
       "      <th>Timestamp</th>\n",
       "      <th>Age</th>\n",
       "      <th>From</th>\n",
       "      <th>To</th>\n",
       "      <th>Value</th>\n",
       "      <th>Txn Fee</th>\n",
       "    </tr>\n",
       "  </thead>\n",
       "  <tbody>\n",
       "    <tr>\n",
       "      <th>0</th>\n",
       "      <td>0x87ad207685a04a5630df4dc60f691b3e6679896f1def...</td>\n",
       "      <td>Sell To Uniswap</td>\n",
       "      <td>19334516</td>\n",
       "      <td>2024-02-29 16:59:47</td>\n",
       "      <td>11 secs ago</td>\n",
       "      <td>0xD11c274E...100D7A541</td>\n",
       "      <td>0x: Exchange Proxy</td>\n",
       "      <td>0.581131</td>\n",
       "      <td>0.009671</td>\n",
       "    </tr>\n",
       "    <tr>\n",
       "      <th>1</th>\n",
       "      <td>0x3fb7613717d61a3f6bf330c542e061463aa1868aa24a...</td>\n",
       "      <td>Transfer</td>\n",
       "      <td>19334516</td>\n",
       "      <td>2024-02-29 16:59:47</td>\n",
       "      <td>11 secs ago</td>\n",
       "      <td>0x9c95822B...53D8C79a3</td>\n",
       "      <td>VAIOT: VAI Token</td>\n",
       "      <td>0.000000</td>\n",
       "      <td>0.002132</td>\n",
       "    </tr>\n",
       "    <tr>\n",
       "      <th>2</th>\n",
       "      <td>0x341367774a838fee5d7c7465b9eb151ddbe012dce6de...</td>\n",
       "      <td>Sell To Uniswap</td>\n",
       "      <td>19334516</td>\n",
       "      <td>2024-02-29 16:59:47</td>\n",
       "      <td>11 secs ago</td>\n",
       "      <td>0x3b454995...7500236a3</td>\n",
       "      <td>0x: Exchange Proxy</td>\n",
       "      <td>0.016822</td>\n",
       "      <td>0.008656</td>\n",
       "    </tr>\n",
       "    <tr>\n",
       "      <th>3</th>\n",
       "      <td>0x9317998e91e7ad56cf0bab4927a425a56ec493243c03...</td>\n",
       "      <td>Transfer</td>\n",
       "      <td>19334516</td>\n",
       "      <td>2024-02-29 16:59:47</td>\n",
       "      <td>11 secs ago</td>\n",
       "      <td>0x37A653a8...8B8b0CFCC</td>\n",
       "      <td>0x57A54b0A...94f9DD578</td>\n",
       "      <td>0.003698</td>\n",
       "      <td>0.001506</td>\n",
       "    </tr>\n",
       "    <tr>\n",
       "      <th>4</th>\n",
       "      <td>0x87c23770735932244ced56868f2387123505922c42b4...</td>\n",
       "      <td>Execute</td>\n",
       "      <td>19334516</td>\n",
       "      <td>2024-02-29 16:59:47</td>\n",
       "      <td>11 secs ago</td>\n",
       "      <td>0x73491B6d...1CdD889C9</td>\n",
       "      <td>Uniswap: Universal Router</td>\n",
       "      <td>0.080000</td>\n",
       "      <td>0.011457</td>\n",
       "    </tr>\n",
       "  </tbody>\n",
       "</table>\n",
       "</div>"
      ],
      "text/plain": [
       "                                            Txn Hash           Method  \\\n",
       "0  0x87ad207685a04a5630df4dc60f691b3e6679896f1def...  Sell To Uniswap   \n",
       "1  0x3fb7613717d61a3f6bf330c542e061463aa1868aa24a...         Transfer   \n",
       "2  0x341367774a838fee5d7c7465b9eb151ddbe012dce6de...  Sell To Uniswap   \n",
       "3  0x9317998e91e7ad56cf0bab4927a425a56ec493243c03...         Transfer   \n",
       "4  0x87c23770735932244ced56868f2387123505922c42b4...          Execute   \n",
       "\n",
       "      Block            Timestamp          Age                    From  \\\n",
       "0  19334516  2024-02-29 16:59:47  11 secs ago  0xD11c274E...100D7A541   \n",
       "1  19334516  2024-02-29 16:59:47  11 secs ago  0x9c95822B...53D8C79a3   \n",
       "2  19334516  2024-02-29 16:59:47  11 secs ago  0x3b454995...7500236a3   \n",
       "3  19334516  2024-02-29 16:59:47  11 secs ago  0x37A653a8...8B8b0CFCC   \n",
       "4  19334516  2024-02-29 16:59:47  11 secs ago  0x73491B6d...1CdD889C9   \n",
       "\n",
       "                          To     Value   Txn Fee  \n",
       "0         0x: Exchange Proxy  0.581131  0.009671  \n",
       "1           VAIOT: VAI Token  0.000000  0.002132  \n",
       "2         0x: Exchange Proxy  0.016822  0.008656  \n",
       "3     0x57A54b0A...94f9DD578  0.003698  0.001506  \n",
       "4  Uniswap: Universal Router  0.080000  0.011457  "
      ]
     },
     "execution_count": 8,
     "metadata": {},
     "output_type": "execute_result"
    }
   ],
   "source": [
    "# The values have an 'ETH' suffix. We need to remove the ETH suffix and convert the object dtype into float64\n",
    "def convert_values_to_float(value):\n",
    "    return float(value.replace(\"ETH\", \"\"))\n",
    "df[\"Value\"] = df[\"Value\"].apply(convert_values_to_float)\n",
    "df.head()"
   ]
  },
  {
   "cell_type": "code",
   "execution_count": 9,
   "id": "9dba399d",
   "metadata": {},
   "outputs": [
    {
     "name": "stdout",
     "output_type": "stream",
     "text": [
      "There is some missing values in this dataframe: False\n"
     ]
    }
   ],
   "source": [
    "# # As we can see, there is no missing value in this dataframe.\n",
    "# any_missing_values = df.isnull().any().any()\n",
    "# print(f\"There is some missing values in this dataframe: {any_missing_values}\")"
   ]
  },
  {
   "cell_type": "code",
   "execution_count": 10,
   "id": "4431fe4f",
   "metadata": {},
   "outputs": [],
   "source": [
    "# def remove_columns(df, columns_to_remove):\n",
    "#     return df.drop(columns=columns_to_remove)\n",
    "\n",
    "# columns_to_remove = [\"Age\"]\n",
    "# df = remove_columns(df, columns_to_remove)"
   ]
  },
  {
   "cell_type": "code",
   "execution_count": 11,
   "id": "a867a0ab",
   "metadata": {},
   "outputs": [],
   "source": [
    "def plot_distributions(df, srs_df, column, x_label):\n",
    "    plt.figure(figsize=(12, 6))\n",
    "\n",
    "    plt.subplot(1, 2, 1)\n",
    "    plt.hist(df[column], bins=10, color=\"skyblue\", edgecolor=\"black\", alpha=0.7)\n",
    "    plt.title(\"Population Distribution\")\n",
    "    plt.xlabel(x_label)\n",
    "    plt.ylabel(\"Frequency\")\n",
    "\n",
    "    plt.subplot(1, 2, 2)\n",
    "    plt.hist(srs_df[column], bins=10, color=\"salmon\", edgecolor=\"black\", alpha=0.7)\n",
    "    plt.title(\"Sample Distribution\")\n",
    "    plt.xlabel(x_label)\n",
    "    plt.ylabel(\"Frequency\")\n",
    "\n",
    "    plt.tight_layout()\n",
    "    plt.show()"
   ]
  },
  {
   "cell_type": "code",
   "execution_count": 18,
   "id": "95de6715",
   "metadata": {},
   "outputs": [
    {
     "data": {
      "image/png": "[encoded data removed]",
      "text/plain": [
       "<Figure size 1200x600 with 2 Axes>"
      ]
     },
     "metadata": {},
     "output_type": "display_data"
    },
    {
     "data": {
      "image/png": "[encoded data removed]",
      "text/plain": [
       "<Figure size 1200x600 with 2 Axes>"
      ]
     },
     "metadata": {},
     "output_type": "display_data"
    }
   ],
   "source": [
    "def simple_random_sampling(df, sample_percentage):\n",
    "    sample_size = int(len(df) * (sample_percentage / 100))\n",
    "    return df.sample(n=sample_size, random_state=42, replace=False)\n",
    "\n",
    "srs_df = simple_random_sampling(df, sample_percentage=10)\n",
    "plot_distributions(df, srs_df, \"Value\", \"Transaction Value\")\n",
    "plot_distributions(df, srs_df, \"Txn Fee\", \"Transaction Fee\")"
   ]
  },
  {
   "cell_type": "markdown",
   "id": "87030e5e0b4fe1e6",
   "metadata": {
    "collapsed": false
   },
   "source": [
    "## Data Sampling and Analysis\n",
    "\n",
    "In this section, we will delve into the process of data sampling and perform an initial analysis on the transaction data we have collected. Our objective is to understand the distribution of transaction values by sampling the data and comparing the sample statistics with the population statistics.\n",
    "\n",
    "### Steps\n",
    "\n",
    "1. **Load the Data**: Import the collected transaction data into a pandas DataFrame.\n",
    "\n",
    "2. **Data Cleaning**: Clean the data by handling missing values, converting data types, and removing any irrelevant information.\n",
    "\n",
    "3. **Simple Random Sampling (SRS)**: Create a sample from the dataset using a simple random sampling method. This involves randomly selecting a subset of the data without regard to any specific characteristics of the data.\n",
    "\n",
    "4. **Stratified Sampling**: Create another sample from the dataset using a stratified sampling method. This involves dividing the data into strata based on a specific characteristic (e.g., transaction value) and then randomly selecting samples from each stratum. Explain what you have stratified the data by and why you chose this column.\n",
    "\n",
    "5. **Statistical Analysis**: Calculate the mean and standard deviation of the samples and the population. Compare these statistics to understand the distribution of transaction values.\n",
    "\n",
    "6. **Visualization**: Plot the distribution of transaction values and fees for both the samples and the population to visually compare their distributions.\n",
    "\n",
    "### Considerations\n",
    "\n",
    "-   **Sample Size**: The size of the sample should be large enough to represent the population accurately but not so large that it becomes impractical to analyze.\n",
    "-   **Sampling Method**: Choose the appropriate sampling method based on the characteristics of the data and the research question.\n",
    "\n",
    "Explain the above considerations in your report.\n"
   ]
  },
  {
   "cell_type": "code",
   "execution_count": 1,
   "id": "4f6becd41f9b2393",
   "metadata": {
    "ExecuteTime": {
     "end_time": "2024-02-27T19:36:26.333480965Z",
     "start_time": "2024-02-27T19:36:26.324023052Z"
    },
    "collapsed": false
   },
   "outputs": [],
   "source": [
    "# Your code here"
   ]
  }
 ],
 "metadata": {
  "kernelspec": {
   "display_name": "Python 3 (ipykernel)",
   "language": "python",
   "name": "python3"
  },
  "language_info": {
   "codemirror_mode": {
    "name": "ipython",
    "version": 3
   },
   "file_extension": ".py",
   "mimetype": "text/x-python",
   "name": "python",
   "nbconvert_exporter": "python",
   "pygments_lexer": "ipython3",
   "version": "3.11.0"
  }
 },
 "nbformat": 4,
 "nbformat_minor": 5
}
