{
 "cells": [
  {
   "cell_type": "markdown",
   "metadata": {},
   "source": []
  },
  {
   "cell_type": "markdown",
   "metadata": {},
   "source": [
    "# Feature Engineering Techniques\n",
    "\n",
    "## Table of Contents\n",
    "\n",
    "- [Feature Engineering Techniques](#feature-engineering-techniques)\n",
    "  - [Introduction](#introduction)\n",
    "  - [Objectives](#objectives)\n",
    "  - [Dataset Description](#dataset-description)\n",
    "  - [Tasks](#tasks)\n",
    "    - [Preprocessing](#preprocessing)\n",
    "    - [Multivariate Regression Implementation](#multivariate-regression-implementation)\n",
    "    - [Manual K-Fold Cross Validation Implementation](#manual-k-fold-cross-validation-implementation)\n",
    "    - [Comparison with Built-in Python Libraries](#comparison-with-built-in-python-libraries)\n",
    "  - [Questions](#questions)\n",
    "  - [References](#references)\n",
    "\n",
    "\n",
    "## Introduction\n",
    "\n",
    "In this assignment, our objective is to apply feature engineering techniques to a football-related dataset with the aim of analyzing the likelihood of scoring a goal through a shot. Following this analysis, we will explore regression and cross-validation concepts in greater depth by implementing multivariate regression and k-fold cross-validation from scratch. These techniques will be applied to a preprocessed dataset related to cars.\n",
    "\n",
    "## Objectives\n",
    "\n",
    "This assignment aims to:\n",
    "\n",
    "- Compare the results obtained from the custom implementations with those achieved using Python's native libraries.\n",
    "\n",
    "## Dataset Description\n",
    "\n",
    "The dataset utilized for preprocessing, named \"football.csv,\" encompasses football-related data, offering insights into various shot attributes, including timing, location (such as corner or penalty), and outcomes like saves by the goalkeeper, blocks by defenders, or missed shots.\n",
    "\n",
    "For the implementation phase, a distinct preprocessed dataset, \"cars.csv,\" focusing on automotive data, will be employed. This dataset contains comprehensive information about cars, and our objective is to leverage it to train custom multivariate regression and k-fold models for predicting the \"Price in Thousands\" and \"Horsepower\" attributes."
   ]
  },
  {
   "cell_type": "markdown",
   "metadata": {},
   "source": [
    "## Tasks\n",
    "\n",
    "### Preprocessing\n",
    "\n",
    "### Multivariate Regression Implementation\n",
    "\n",
    "### Manual K-Fold Cross Validation Implementation\n",
    "\n",
    "### Comparison with Built-in Python Libraries\n",
    "\n"
   ]
  },
  {
   "cell_type": "markdown",
   "metadata": {},
   "source": [
    "## Questions\n",
    "\n",
    "1. **Describe your strategy for addressing challenges such as handling missing\n",
    "values and categorical features. Could you also elaborate on your feature\n",
    "selection metrics and explain the rationale behind them?**\n",
    "\n",
    "2. **Review the R² and Adjusted R² values obtained in part 4. Explain what these values\n",
    "indicate and what the implications of high or low values might be. Also, discuss the\n",
    "differences between these two metrics.**\n",
    "\n",
    "3. **Review the p-values obtained in part 4 for each column of data and explain what\n",
    "these values indicate. Discuss what an appropriate value for p-values is and which\n",
    "columns currently have suitable values.**\n",
    "\n",
    "4. **Assess and analyze the importance of each feature in the dataset based on the\n",
    "results obtained in part 4 regarding an individual's diabetic condition.**\n",
    "\n"
   ]
  },
  {
   "cell_type": "markdown",
   "metadata": {},
   "source": [
    "## References\n",
    "\n"
   ]
  },
  {
   "cell_type": "markdown",
   "metadata": {},
   "source": []
  }
 ],
 "metadata": {
  "kernelspec": {
   "display_name": "Python 3 (ipykernel)",
   "language": "python",
   "name": "python3"
  },
  "language_info": {
   "codemirror_mode": {
    "name": "ipython",
    "version": 3
   },
   "file_extension": ".py",
   "mimetype": "text/x-python",
   "name": "python",
   "nbconvert_exporter": "python",
   "pygments_lexer": "ipython3",
   "version": "3.11.0"
  }
 },
 "nbformat": 4,
 "nbformat_minor": 2
}
